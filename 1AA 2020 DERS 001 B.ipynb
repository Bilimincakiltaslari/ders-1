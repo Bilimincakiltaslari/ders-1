{
 "cells": [
  {
   "cell_type": "code",
   "execution_count": null,
   "metadata": {},
   "outputs": [],
   "source": []
  },
  {
   "cell_type": "code",
   "execution_count": null,
   "metadata": {},
   "outputs": [],
   "source": []
  },
  {
   "cell_type": "code",
   "execution_count": null,
   "metadata": {},
   "outputs": [],
   "source": []
  },
  {
   "cell_type": "code",
   "execution_count": null,
   "metadata": {},
   "outputs": [],
   "source": []
  },
  {
   "cell_type": "code",
   "execution_count": null,
   "metadata": {},
   "outputs": [],
   "source": []
  },
  {
   "cell_type": "code",
   "execution_count": null,
   "metadata": {},
   "outputs": [],
   "source": []
  },
  {
   "cell_type": "code",
   "execution_count": null,
   "metadata": {},
   "outputs": [],
   "source": []
  },
  {
   "cell_type": "code",
   "execution_count": null,
   "metadata": {},
   "outputs": [],
   "source": []
  },
  {
   "cell_type": "code",
   "execution_count": null,
   "metadata": {},
   "outputs": [],
   "source": []
  },
  {
   "cell_type": "code",
   "execution_count": null,
   "metadata": {},
   "outputs": [],
   "source": []
  },
  {
   "cell_type": "code",
   "execution_count": 1,
   "metadata": {},
   "outputs": [
    {
     "name": "stdout",
     "output_type": "stream",
     "text": [
      "Selam Dünyalı\n",
      "Senin adın ne?\n",
      "GLU GLU HATTTA BLUE\n",
      "Seninle tanıştığıma sevindim GLU GLU HATTTA BLUE\n",
      "Senin isminin uzunluğu:\n",
      "19\n",
      "Kaç yaşındasın?\n",
      "25\n",
      "5 yıl sonra 30 yaşında olacaksın.\n"
     ]
    }
   ],
   "source": [
    "print('Selam Dünyalı')\n",
    "print('Senin adın ne?')    \n",
    "benimAdim = input()  # KULLANICININ BİLGİ GİRMESİ İÇİN\n",
    "print('Seninle tanıştığıma sevindim ' + benimAdim)\n",
    "print('Senin isminin uzunluğu:')\n",
    "print(len(benimAdim))\n",
    "print('Kaç yaşındasın?')    # ask for their age\n",
    "benimYasim = input()\n",
    "print('5 yıl sonra ' + str(int(benimYasim) + 5) + ' yaşında olacaksın.')"
   ]
  },
  {
   "cell_type": "code",
   "execution_count": null,
   "metadata": {},
   "outputs": [],
   "source": []
  }
 ],
 "metadata": {
  "kernelspec": {
   "display_name": "Python 3",
   "language": "python",
   "name": "python3"
  },
  "language_info": {
   "codemirror_mode": {
    "name": "ipython",
    "version": 3
   },
   "file_extension": ".py",
   "mimetype": "text/x-python",
   "name": "python",
   "nbconvert_exporter": "python",
   "pygments_lexer": "ipython3",
   "version": "3.7.3"
  }
 },
 "nbformat": 4,
 "nbformat_minor": 2
}
